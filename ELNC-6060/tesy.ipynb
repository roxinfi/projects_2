{
 "cells": [
  {
   "cell_type": "code",
   "execution_count": 1,
   "metadata": {},
   "outputs": [
    {
     "name": "stdout",
     "output_type": "stream",
     "text": [
      "welcome to VRAJ Shopping Helpper\n",
      "Total price of the item is: 20.0\n",
      "Total weight of the item is: 50.0\n"
     ]
    }
   ],
   "source": [
    "# Procedure -2 \\\\ print the name of the shopping helper\n",
    "print(\"welcome to VRAJ Shopping Helpper\")\n",
    "\n",
    "# procedure -3 \\\\ get the name of the item to be purched\n",
    "itemname = input(\"please enter the quantity of the item to be purched:\") # Procedure -3\n",
    "\n",
    "# Procedure -4 \\\\ get the quantity of the item to be purched\n",
    "itemQuantityStr = input(\"please enter the quantity of the item to be purched:\") # Procedure -4\n",
    "\n",
    "# Procedure -5 \\\\ get the price of the item to be purched\n",
    "itemQuantity = int(itemQuantityStr) # Procedure -5\n",
    "\n",
    "# Procedure -6 \\\\ get the price of the item to be purched\n",
    "itemPriceStr = input(\"please enter the price of the item:\") # Procedure -6\n",
    "\n",
    "# Procedure -7 \\\\ get the price of the item to be purched\n",
    "itemPrice = float(itemPriceStr) # Procedure -7\n",
    "\n",
    "# Procedure -8 \\\\ get the average weight of the item to be purched\n",
    "itemAvgWeightStr = input(\"please enter the average weight of the item:\") # Procedure -8\n",
    "\n",
    "# Procedure -9 \\\\ get the average weight of the item to be purched\n",
    "itemAvgWeight = float(itemAvgWeightStr) # Procedure -9\n",
    "\n",
    "# Procedure -10 \\\\ calculate the total price of the item\n",
    "totalPrice = itemQuantity * itemPrice # Procedure -10\n",
    "\n",
    "# Procedure -11 \\\\ calculate the total weight of the item\n",
    "totalweighht = itemQuantity * itemAvgWeight # Procedure -11\n",
    "\n",
    "# Procedure -12 \\\\ print the total price of the item\n",
    "print(\"Total price of the item is:\", totalPrice) # Procedure -12\n",
    "\n",
    "# Procedure -13 \\\\ print the total weight of the item\n",
    "print(\"Total weight of the item is:\", totalweighht) # Procedure -13"
   ]
  },
  {
   "cell_type": "code",
   "execution_count": null,
   "metadata": {},
   "outputs": [],
   "source": [
    "# Procedure -2 \\\\ print the name of the shopping helper\n",
    "print(\"welcome to VRAJ Shopping Helpper\")\n",
    "\n",
    "# procedure -3 \\\\ get the name of the item to be purched\n",
    "itemname = input(\"please enter the quantity of the item to be purched:\") # Procedure - 3\n",
    "\n",
    "# Procedure -4 \\\\ get the quantity of the item to be purched\n",
    "itemQuantityStr = input(\"please enter the quantity of the item to be purched:\") # Procedure - 4\n",
    "\n",
    "\n",
    "if itemQuantityStr.isnumeric() == False: # Procedure - 4\n",
    "    print(\"please enter a valid number\") # Procedure - 4\n",
    "    exit() # Procedure -4\n",
    "\n",
    "# Procedure - 5 \\\\ get the price of the item to be purched\n",
    "itemQuantity = int(itemQuantityStr) # Procedure -5\n",
    "\n",
    "# Procedure - 6 \\\\ get the price of the item to be purched\n",
    "itemPriceStr = input(\"please enter the price of the item:\") # Procedure -6\n",
    "\n",
    "if itemPriceStr.isnumeric() == False: # Procedure - 6\n",
    "    print(\"please enter a valid number\") # Procedure - 6\n",
    "    exit() # Procedure - 6\n",
    "\n",
    "# Procedure - 7 \\\\ get the price of the item to be purched\n",
    "itemPrice = float(itemPriceStr) # Procedure - 7\n",
    "\n",
    "# Procedure - 8 \\\\ get the average weight of the item to be purched\n",
    "itemAvgWeightStr = input(\"please enter the average weight of the item:\") # Procedure - 8\n",
    "\n",
    "if itemAvgWeightStr.isnumeric() == False: # Procedure - 8\n",
    "    print(\"please enter a valid number\") # Procedure - 8\n",
    "    exit() # Procedure - 8\n",
    "\n",
    "# Procedure - 9 \\\\ get the average weight of the item to be purched\n",
    "itemAvgWeight = float(itemAvgWeightStr) # Procedure - 9\n",
    "\n",
    "# Procedure - 10 \\\\ calculate the total price of the item\n",
    "totalPrice = itemQuantity * itemPrice # Procedure - 10\n",
    "\n",
    "# Procedure - 11 \\\\ calculate the total weight of the item\n",
    "totalweighht = itemQuantity * itemAvgWeight # Procedure - 11\n",
    "\n",
    "# Procedure - 12 \\\\ print the total price of the item\n",
    "print(\"Total price of the item(s)\", totalPrice) # Procedure - 12\n",
    "\n",
    "# Procedure - 13 \\\\ print the total weight of the item\n",
    "print(\"Total weight of the item is:\", totalweighht) # Procedure - 13"
   ]
  },
  {
   "cell_type": "code",
   "execution_count": 4,
   "metadata": {},
   "outputs": [
    {
     "name": "stdout",
     "output_type": "stream",
     "text": [
      "product name is: ['vsa', 'fasdfe', 'dasd', 'awd']\n"
     ]
    }
   ],
   "source": [
    "\n",
    "product = []\n",
    "\n",
    "if product == []:\n",
    "    print(\"please enter the product name\")\n",
    "    for i in range(0,4):\n",
    "       product.append(input(\"Enter the product name:\"))\n",
    "    print(\"product name is:\", product)\n",
    "else:\n",
    "    print(\"product name is:\", product)"
   ]
  },
  {
   "cell_type": "code",
   "execution_count": 5,
   "metadata": {},
   "outputs": [],
   "source": [
    "dictionay = {}\n",
    "for i in range(0,4):\n",
    "    key = input(\"Enter the key:\")\n",
    "    value = input(\"Enter the value:\")\n",
    "    dictionay[key] = value\n",
    "\n",
    "dictionay"
   ]
  }
 ],
 "metadata": {
  "kernelspec": {
   "display_name": "Python 3",
   "language": "python",
   "name": "python3"
  },
  "language_info": {
   "codemirror_mode": {
    "name": "ipython",
    "version": 3
   },
   "file_extension": ".py",
   "mimetype": "text/x-python",
   "name": "python",
   "nbconvert_exporter": "python",
   "pygments_lexer": "ipython3",
   "version": "3.12.2"
  }
 },
 "nbformat": 4,
 "nbformat_minor": 2
}

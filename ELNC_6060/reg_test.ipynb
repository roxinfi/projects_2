{
 "cells": [
  {
   "cell_type": "code",
   "execution_count": 1,
   "metadata": {},
   "outputs": [
    {
     "name": "stdout",
     "output_type": "stream",
     "text": [
      "Welcome to the Resistor Value Calculator!\n",
      "Invalid input. Please enter a valid integer within the specified range or 'q' to exit.\n",
      "Invalid input. Please enter a valid integer within the specified range or 'q' to exit.\n",
      "Invalid input. Please enter a valid integer within the specified range or 'q' to exit.\n",
      "Exiting the program. Goodbye!\n"
     ]
    }
   ],
   "source": [
    "register_value = [0,1,2,3,4,5,6,7,8,9]\n",
    "Multiplyer_value = [0,1,2,3,4,5,6,7,8,9]\n",
    "Tollerance_value = [0.05,0.1,0.25,0.5,1,2,5,10]\n",
    "Temp_coefficient_value = [0,1,2,3,4,5,6,7,8,9]"
   ]
  },
  {
   "cell_type": "code",
   "execution_count": 2,
   "metadata": {},
   "outputs": [
    {
     "name": "stdout",
     "output_type": "stream",
     "text": [
      "Welcome to the Resistor Value Calculator!\n",
      "Resistance Value: 24000 ohms\n",
      "Tolerance Value: ±1%\n",
      "Exiting the program. Goodbye!\n"
     ]
    }
   ],
   "source": [
    "def read_integer(prompt, min_range, max_range):\n",
    "    while True:\n",
    "        try:\n",
    "            value = input(prompt).strip()\n",
    "            if value.lower() == 'q':\n",
    "                return value\n",
    "            value = int(value)\n",
    "            if value < min_range or value > max_range:\n",
    "                raise ValueError\n",
    "            return value\n",
    "        except ValueError:\n",
    "            print(\"Invalid input. Please enter a valid integer within the specified range or 'q' to exit.\")\n",
    "\n",
    "def get_resistance_value(num_bands):\n",
    "    resistance_digits = [\"Black\", \"Brown\", \"Red\", \"Orange\", \"Yellow\", \"Green\", \"Blue\", \"Violet\", \"Grey\", \"White\"]\n",
    "    resistance_value = \"\"\n",
    "    for i in range(num_bands):\n",
    "        digit = read_integer(f\"Select the resistance band color {i + 1}:\\n\" +\n",
    "                             \"\\n\".join([f\"{j+1}. {color}\" for j, color in enumerate(resistance_digits)]) + \"\\n\", 1, 10)\n",
    "        if digit == 'q':\n",
    "            return digit\n",
    "        resistance_value += str(digit - 1)  # Store the index as string (0-9)\n",
    "    return int(resistance_value)\n",
    "\n",
    "def get_multiplier_value():\n",
    "    multipliers = [\"Black\", \"Brown\", \"Red\", \"Orange\", \"Yellow\", \"Green\", \"Blue\", \"Violet\", \"Grey\", \"White\", \"Gold\", \"Silver\"]\n",
    "    multiplier_values = [1, 10, 100, 1000, 10000, 100000, 1000000, 10000000, 100000000, 1000000000, 0.1, 0.01]\n",
    "    multiplier_index = read_integer(\"Select the multiplier band color:\\n\" +\n",
    "                                    \"\\n\".join([f\"{i+1}. {color}\" for i, color in enumerate(multipliers)]) + \"\\n\", 1, 12)\n",
    "    if multiplier_index == 'q':\n",
    "        return multiplier_index\n",
    "    return multiplier_values[multiplier_index-1]\n",
    "\n",
    "def get_tolerance_value():\n",
    "    tolerances = [\"Brown\", \"Red\", \"Green\", \"Blue\", \"Violet\", \"Grey\", \"Gold\", \"Silver\"]\n",
    "    tolerance_values = [1, 2, 0.5, 0.25, 0.1, 0.05, 5, 10]\n",
    "    tolerance_index = read_integer(\"Select the tolerance band color:\\n\" +\n",
    "                                   \"\\n\".join([f\"{i+1}. {color}\" for i, color in enumerate(tolerances)]) + \"\\n\", 1, 8)\n",
    "    if tolerance_index == 'q':\n",
    "        return tolerance_index\n",
    "    return tolerance_values[tolerance_index-1]\n",
    "\n",
    "def get_temperature_coefficient_value():\n",
    "    temperature_coefficients = [\"Brown\", \"Red\", \"Orange\", \"Yellow\", \"Blue\", \"Violet\"]\n",
    "    coefficient_values = [100, 50, 15, 25, 10, 5]\n",
    "    coefficient_index = read_integer(\"Select the temperature coefficient band color:\\n\" +\n",
    "                                     \"\\n\".join([f\"{i+1}. {color}\" for i, color in enumerate(temperature_coefficients)]) + \"\\n\", 1, 6)\n",
    "    if coefficient_index == 'q':\n",
    "        return coefficient_index\n",
    "    return coefficient_values[coefficient_index-1]\n",
    "\n",
    "def main():\n",
    "    print(\"Welcome to the Resistor Value Calculator!\")\n",
    "\n",
    "    while True:\n",
    "        num_bands = read_integer(\"Enter the number of bands on the resistor (4-6) or 'q' to exit: \", 4, 6)\n",
    "        if num_bands == 'q':\n",
    "            print(\"Exiting the program. Goodbye!\")\n",
    "            break\n",
    "\n",
    "        resistance_value = get_resistance_value(2 if num_bands == 4 else 3)\n",
    "        if resistance_value == 'q':\n",
    "            print(\"Exiting the program. Goodbye!\")\n",
    "            break\n",
    "\n",
    "        multiplier_value = get_multiplier_value()\n",
    "        if multiplier_value == 'q':\n",
    "            print(\"Exiting the program. Goodbye!\")\n",
    "            break\n",
    "\n",
    "        tolerance_value = get_tolerance_value()\n",
    "        if tolerance_value == 'q':\n",
    "            print(\"Exiting the program. Goodbye!\")\n",
    "            break\n",
    "\n",
    "        if num_bands == 6:\n",
    "            temperature_coefficient_value = get_temperature_coefficient_value()\n",
    "            if temperature_coefficient_value == 'q':\n",
    "                print(\"Exiting the program. Goodbye!\")\n",
    "                break\n",
    "\n",
    "        print(f\"Resistance Value: {resistance_value * multiplier_value} ohms\")\n",
    "        print(f\"Tolerance Value: ±{tolerance_value}%\")\n",
    "        if num_bands == 6:\n",
    "            print(f\"Temperature Coefficient Value: {temperature_coefficient_value} ppm/K\")\n",
    "\n",
    "if __name__ == \"__main__\":\n",
    "    main()\n"
   ]
  }
 ],
 "metadata": {
  "kernelspec": {
   "display_name": "Python 3",
   "language": "python",
   "name": "python3"
  },
  "language_info": {
   "codemirror_mode": {
    "name": "ipython",
    "version": 3
   },
   "file_extension": ".py",
   "mimetype": "text/x-python",
   "name": "python",
   "nbconvert_exporter": "python",
   "pygments_lexer": "ipython3",
   "version": "3.12.2"
  }
 },
 "nbformat": 4,
 "nbformat_minor": 2
}
